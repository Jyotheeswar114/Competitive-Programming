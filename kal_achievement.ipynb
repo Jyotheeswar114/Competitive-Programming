{
 "cells": [
  {
   "cell_type": "code",
   "execution_count": 18,
   "metadata": {},
   "outputs": [],
   "source": [
    "import cv2\n",
    "import matplotlib.pyplot as plt\n",
    "import numpy as np"
   ]
  },
  {
   "cell_type": "code",
   "execution_count": 23,
   "metadata": {},
   "outputs": [
    {
     "data": {
      "text/plain": [
       "<matplotlib.image.AxesImage at 0x7f72a43cabf0>"
      ]
     },
     "execution_count": 23,
     "metadata": {},
     "output_type": "execute_result"
    },
    {
     "data": {
      "image/png": "[encoded data removed]",
      "text/plain": [
       "<Figure size 432x288 with 1 Axes>"
      ]
     },
     "metadata": {
      "needs_background": "light"
     },
     "output_type": "display_data"
    }
   ],
   "source": [
    "im = cv2.imread(\"/home/kautilya/Downloads/srav_akka.jpeg\")\n",
    "im = cv2.cvtColor(im, cv2.COLOR_BGR2GRAY)\n",
    "plt.imshow(im)\n",
    "im = im[300:430, 320:780].copy()\n",
    "im[im > 100] = 255\n",
    "im[im <=100] = 0\n",
    "#plt.imshow(im, \"gray\")\n",
    "temp_img = np.zeros((im.shape[0], im.shape[1], 3), dtype=np.uint8)\n",
    "temp_img[im == 0] = [0, 0, 255]\n",
    "temp_img[im != 0] = [255, 255, 255]\n",
    "# for i in range(0, im.shape[0]):\n",
    "#     for j in range(0, im.shape[1]):\n",
    "#         if im[i, j] == 0:\n",
    "#             temp_img[i, j] = [0, 0, 255]\n",
    "#         else:\n",
    "#             temp_img[i, j] = [255, 255, 255]\n",
    "\n",
    "plt.imshow(temp_img)\n",
    "# "
   ]
  },
  {
   "cell_type": "code",
   "execution_count": 24,
   "metadata": {},
   "outputs": [],
   "source": [
    "plt.imsave(\"/home/kautilya/Downloads/new_sign2.jpg\", temp_img)"
   ]
  }
 ],
 "metadata": {
  "interpreter": {
   "hash": "7552bcf3dc78edf3852f4ba8d47c35918fd139eb9a6af601093d7f707f67d21c"
  },
  "kernelspec": {
   "display_name": "Python 3.10.1 64-bit ('dip': venv)",
   "language": "python",
   "name": "python3"
  },
  "language_info": {
   "codemirror_mode": {
    "name": "ipython",
    "version": 3
   },
   "file_extension": ".py",
   "mimetype": "text/x-python",
   "name": "python",
   "nbconvert_exporter": "python",
   "pygments_lexer": "ipython3",
   "version": "3.10.1"
  },
  "orig_nbformat": 4
 },
 "nbformat": 4,
 "nbformat_minor": 2
}
